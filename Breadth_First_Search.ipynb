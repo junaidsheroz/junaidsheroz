{
  "nbformat": 4,
  "nbformat_minor": 0,
  "metadata": {
    "colab": {
      "provenance": [],
      "authorship_tag": "ABX9TyOJI1Q+EVSCtP7CuWeq49nK",
      "include_colab_link": true
    },
    "kernelspec": {
      "name": "python3",
      "display_name": "Python 3"
    },
    "language_info": {
      "name": "python"
    }
  },
  "cells": [
    {
      "cell_type": "markdown",
      "metadata": {
        "id": "view-in-github",
        "colab_type": "text"
      },
      "source": [
        "<a href=\"https://colab.research.google.com/github/junaidsheroz/junaidsheroz/blob/main/Breadth_First_Search.ipynb\" target=\"_parent\"><img src=\"https://colab.research.google.com/assets/colab-badge.svg\" alt=\"Open In Colab\"/></a>"
      ]
    },
    {
      "cell_type": "code",
      "execution_count": 2,
      "metadata": {
        "colab": {
          "base_uri": "https://localhost:8080/"
        },
        "id": "yWUIFsLy0lqF",
        "outputId": "744f4f06-c817-4e9c-f2db-33e288c6b69b"
      },
      "outputs": [
        {
          "output_type": "stream",
          "name": "stdout",
          "text": [
            "Given below is Breadth-First Search\n",
            "P Q R S T "
          ]
        }
      ],
      "source": [
        "# graph is dictionary which represents the nodes and adjacent nodes for the followning \n",
        "graph = {\n",
        "    'P':['Q','R','S'],\n",
        "    'Q':['R','S'],\n",
        "    'R':['P','Q','T'],\n",
        "    'S':['P'],\n",
        "    'T':['R']\n",
        "}\n",
        "# creating the empty list for collecting visited nodes\n",
        "visited = []\n",
        "# creating the empty list to add elements in the queue\n",
        "queue=[]\n",
        "def bfs(visited, graph,node):\n",
        "    visited.append(node)\n",
        "    queue.append(node)\n",
        "    \n",
        "    while queue:\n",
        "        m = queue.pop(0)\n",
        "        print(m,end=' ')\n",
        "        for neighbor in graph[m]:\n",
        "            if neighbor not in visited:\n",
        "                visited.append(neighbor)\n",
        "                queue.append(neighbor)\n",
        "        \n",
        "# calling the function\n",
        "print(\"Given below is Breadth-First Search\")\n",
        "bfs(visited,graph,\"P\")"
      ]
    },
    {
      "cell_type": "code",
      "source": [],
      "metadata": {
        "id": "JO-Ms5Ab0oo7"
      },
      "execution_count": null,
      "outputs": []
    }
  ]
}